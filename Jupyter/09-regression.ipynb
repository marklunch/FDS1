{
 "cells": [
  {
   "cell_type": "markdown",
   "metadata": {},
   "source": [
    "Before we start, run the code cell below for a nicer layout."
   ]
  },
  {
   "cell_type": "code",
   "execution_count": 3,
   "metadata": {},
   "outputs": [
    {
     "data": {
      "text/html": [
       "<style>\n",
       "h1 { margin-top: 3em !important; }\n",
       "h2 { margin-top: 2em !important; }\n",
       "h3 { margin-top: 1em !important; }\n",
       "#notebook-container { \n",
       "    width: 50% !important; \n",
       "    min-width: 800px;\n",
       "}\n",
       "</style>\n"
      ],
      "text/plain": [
       "<IPython.core.display.HTML object>"
      ]
     },
     "metadata": {},
     "output_type": "display_data"
    }
   ],
   "source": [
    "%%html\n",
    "<style>\n",
    "h1 { margin-top: 3em !important; }\n",
    "h2 { margin-top: 2em !important; }\n",
    "h3 { margin-top: 1em !important; }\n",
    "#notebook-container { \n",
    "    width: 50% !important; \n",
    "    min-width: 800px;\n",
    "}\n",
    "</style>"
   ]
  },
  {
   "cell_type": "markdown",
   "metadata": {},
   "source": [
    "<h1>World happiness 2017</h1>\n",
    "\n",
    "The dataset `09-resources/world-happiness-2017.csv` contains the complete world happiness \n",
    "report from 2017. "
   ]
  },
  {
   "cell_type": "code",
   "execution_count": 38,
   "metadata": {},
   "outputs": [
    {
     "data": {
      "text/html": [
       "<div>\n",
       "<style scoped>\n",
       "    .dataframe tbody tr th:only-of-type {\n",
       "        vertical-align: middle;\n",
       "    }\n",
       "\n",
       "    .dataframe tbody tr th {\n",
       "        vertical-align: top;\n",
       "    }\n",
       "\n",
       "    .dataframe thead th {\n",
       "        text-align: right;\n",
       "    }\n",
       "</style>\n",
       "<table border=\"1\" class=\"dataframe\">\n",
       "  <thead>\n",
       "    <tr style=\"text-align: right;\">\n",
       "      <th></th>\n",
       "      <th>Rank</th>\n",
       "      <th>Score</th>\n",
       "      <th>GDP:Capita</th>\n",
       "      <th>Family</th>\n",
       "      <th>Life Expectancy</th>\n",
       "      <th>Freedom</th>\n",
       "      <th>Generosity</th>\n",
       "      <th>Corruption</th>\n",
       "    </tr>\n",
       "    <tr>\n",
       "      <th>Country</th>\n",
       "      <th></th>\n",
       "      <th></th>\n",
       "      <th></th>\n",
       "      <th></th>\n",
       "      <th></th>\n",
       "      <th></th>\n",
       "      <th></th>\n",
       "      <th></th>\n",
       "    </tr>\n",
       "  </thead>\n",
       "  <tbody>\n",
       "    <tr>\n",
       "      <th>Norway</th>\n",
       "      <td>1</td>\n",
       "      <td>7.537</td>\n",
       "      <td>0.808232</td>\n",
       "      <td>0.766762</td>\n",
       "      <td>0.796667</td>\n",
       "      <td>0.635423</td>\n",
       "      <td>0.362012</td>\n",
       "      <td>0.315964</td>\n",
       "    </tr>\n",
       "    <tr>\n",
       "      <th>Denmark</th>\n",
       "      <td>2</td>\n",
       "      <td>7.522</td>\n",
       "      <td>0.741192</td>\n",
       "      <td>0.775561</td>\n",
       "      <td>0.792566</td>\n",
       "      <td>0.626007</td>\n",
       "      <td>0.355280</td>\n",
       "      <td>0.400770</td>\n",
       "    </tr>\n",
       "    <tr>\n",
       "      <th>Iceland</th>\n",
       "      <td>3</td>\n",
       "      <td>7.504</td>\n",
       "      <td>0.740317</td>\n",
       "      <td>0.805287</td>\n",
       "      <td>0.833552</td>\n",
       "      <td>0.627163</td>\n",
       "      <td>0.475540</td>\n",
       "      <td>0.153527</td>\n",
       "    </tr>\n",
       "    <tr>\n",
       "      <th>Switzerland</th>\n",
       "      <td>4</td>\n",
       "      <td>7.494</td>\n",
       "      <td>0.782490</td>\n",
       "      <td>0.758456</td>\n",
       "      <td>0.858131</td>\n",
       "      <td>0.620071</td>\n",
       "      <td>0.290549</td>\n",
       "      <td>0.367007</td>\n",
       "    </tr>\n",
       "    <tr>\n",
       "      <th>Finland</th>\n",
       "      <td>5</td>\n",
       "      <td>7.469</td>\n",
       "      <td>0.721786</td>\n",
       "      <td>0.770123</td>\n",
       "      <td>0.809158</td>\n",
       "      <td>0.617951</td>\n",
       "      <td>0.245483</td>\n",
       "      <td>0.382612</td>\n",
       "    </tr>\n",
       "  </tbody>\n",
       "</table>\n",
       "</div>"
      ],
      "text/plain": [
       "             Rank  Score  GDP:Capita    Family  Life Expectancy   Freedom  \\\n",
       "Country                                                                     \n",
       "Norway          1  7.537    0.808232  0.766762         0.796667  0.635423   \n",
       "Denmark         2  7.522    0.741192  0.775561         0.792566  0.626007   \n",
       "Iceland         3  7.504    0.740317  0.805287         0.833552  0.627163   \n",
       "Switzerland     4  7.494    0.782490  0.758456         0.858131  0.620071   \n",
       "Finland         5  7.469    0.721786  0.770123         0.809158  0.617951   \n",
       "\n",
       "             Generosity  Corruption  \n",
       "Country                              \n",
       "Norway         0.362012    0.315964  \n",
       "Denmark        0.355280    0.400770  \n",
       "Iceland        0.475540    0.153527  \n",
       "Switzerland    0.290549    0.367007  \n",
       "Finland        0.245483    0.382612  "
      ]
     },
     "execution_count": 38,
     "metadata": {},
     "output_type": "execute_result"
    }
   ],
   "source": [
    "import pandas as pd\n",
    "import matplotlib.pyplot as plt\n",
    "\n",
    "happy = pd.read_csv('09-resources/world-happiness-2017.csv', index_col=0)\n",
    "happy['GDP:Capita'] /= 2 # Normalize to [0,1]\n",
    "happy['Family'] /= 2     # Normalize to [0,1]\n",
    "happy.head()"
   ]
  },
  {
   "cell_type": "markdown",
   "metadata": {},
   "source": [
    "> 1) Normalize the column `Score` so that they lie in the interval $[0,1]$, 1 being the highest score and 0 being the lowest\n",
    "\n",
    "> 2) Plot the six life factors (GDP:Capita, Family, Life Expectancy, Freedom, Generosity, Corruption) against the happiness score in scatter plots\n",
    "\n",
    "> 3) Find out the Pearson correlation coefficient of the six life factors with the happiness score.\n",
    "\n",
    "<i>Hint: Try out the pandas dataframe methods `.mean()`, `.cov()` and `.corr()`. </i>\n",
    "\n",
    "> 4) Compute a simple linear regression for each of the plots and draw the regression line.\n",
    "\n",
    "<i>Hint: Matplotlib does not offer a nice way to draw infinite lines. Instead, you can draw a line between two points $(x,y)$, $(x',y')$ on that line using `.plot([x,x'],[y,y'])`. </i>"
   ]
  },
  {
   "cell_type": "code",
   "execution_count": null,
   "metadata": {},
   "outputs": [],
   "source": []
  }
 ],
 "metadata": {
  "kernelspec": {
   "display_name": "Python 3",
   "language": "python",
   "name": "python3"
  },
  "language_info": {
   "codemirror_mode": {
    "name": "ipython",
    "version": 3
   },
   "file_extension": ".py",
   "mimetype": "text/x-python",
   "name": "python",
   "nbconvert_exporter": "python",
   "pygments_lexer": "ipython3",
   "version": "3.7.2"
  }
 },
 "nbformat": 4,
 "nbformat_minor": 2
}
