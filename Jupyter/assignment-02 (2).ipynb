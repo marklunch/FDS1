{
 "cells": [
  {
   "cell_type": "markdown",
   "metadata": {},
   "source": [
    "Please run the following cell to have the proper styling for the notebook."
   ]
  },
  {
   "cell_type": "code",
   "execution_count": 1,
   "metadata": {
    "slideshow": {
     "slide_type": "-"
    }
   },
   "outputs": [
    {
     "data": {
      "text/html": [
       "<style>\n",
       "#notebook-container { \n",
       "    width: 50% !important; \n",
       "    min-width: 800px;\n",
       "    padding-right: 5em !important;\n",
       "}\n",
       "h1 { margin-top: 3em !important; }\n",
       "h2 { margin-top: 2em !important; }\n",
       "h3 { margin-top: 1em !important; }\n",
       "div.task {\n",
       "  font-size: 1.2em;\n",
       "  padding: .7em;\n",
       "  border: 2px solid #ccc;\n",
       "  background-color: #eee;\n",
       "  border-radius: 5px;\n",
       "  margin: 0.5em 0px;\n",
       "  display: flex;\n",
       "}\n",
       "div.task div:first-child {\n",
       "    padding-right: 10px;\n",
       "    font-size: 1.2em;\n",
       "    line-height: 1.1em;\n",
       "    color: #777;\n",
       "}\n",
       "div.task tt {\n",
       "    background-color: #fff;\n",
       "    font-size: 0.9em;\n",
       "    padding: 0px 5px 0px 5px;\n",
       "    border-radius: 1px;\n",
       "}    \n",
       "</style>\n"
      ],
      "text/plain": [
       "<IPython.core.display.HTML object>"
      ]
     },
     "metadata": {},
     "output_type": "display_data"
    }
   ],
   "source": [
    "%%html\n",
    "<style>\n",
    "#notebook-container { \n",
    "    width: 50% !important; \n",
    "    min-width: 800px;\n",
    "    padding-right: 5em !important;\n",
    "}\n",
    "h1 { margin-top: 3em !important; }\n",
    "h2 { margin-top: 2em !important; }\n",
    "h3 { margin-top: 1em !important; }\n",
    "div.task {\n",
    "  font-size: 1.2em;\n",
    "  padding: .7em;\n",
    "  border: 2px solid #ccc;\n",
    "  background-color: #eee;\n",
    "  border-radius: 5px;\n",
    "  margin: 0.5em 0px;\n",
    "  display: flex;\n",
    "}\n",
    "div.task div:first-child {\n",
    "    padding-right: 10px;\n",
    "    font-size: 1.2em;\n",
    "    line-height: 1.1em;\n",
    "    color: #777;\n",
    "}\n",
    "div.task tt {\n",
    "    background-color: #fff;\n",
    "    font-size: 0.9em;\n",
    "    padding: 0px 5px 0px 5px;\n",
    "    border-radius: 1px;\n",
    "}    \n",
    "</style>"
   ]
  },
  {
   "cell_type": "markdown",
   "metadata": {},
   "source": [
    "<h2>How do I approach this assignment?</h2>\n",
    "\n",
    "The core task of this assignment lies in coming up with interesting questions about the dataset. In order to find good questions, it will be necessary to <i>explore</i> it: try various plots and see whether you find something of note, something that looks interesting to you. Make use of your lab notebooks, we have seen several types of plots and how to create them with matplotlib. I recommend that you do this exploratory phase in a different notebook!\n",
    "\n",
    "Once you have found an answer to your question, describe your process: what parts of the dataset you are using, how you deal with missing data, what you compute or plot and why, and finally what conclusions you draw from that. You should use <b>at least one</b> plot to answer your question&mdash;if you can answer your question by only computing statistics, it is probably not a good question to work on.\n",
    "\n",
    "<b>Feel free to run your questions by me if you are unsure!</b>\n",
    "\n",
    "This assignment will be marked like an essay: you need to explain to a potential reader what question you are asking and convince them that the answer you offer is supported by the data. \n",
    "\n",
    "If you are stuck please contact me well ahead of the deadline. I am happy to help!"
   ]
  },
  {
   "cell_type": "markdown",
   "metadata": {},
   "source": [
    "<h1>Shark attacks!</h1>\n",
    "\n",
    "You have already worked extensively with the shark attack dataset. This version has a few additional columns: \n",
    "\n",
    "<ul>\n",
    "    <li><tt>Area</tt> contains a more precise description of where the incident occurred,\n",
    "    <li><tt>Type</tt> a broad description of why it happened (importantly, whether the attack was provoked or not), \n",
    "    <li><tt>Injury</tt> describes the severity of the \n",
    "        injury sustained by the victim (if available),\n",
    "    <li><tt>Species</tt> the shark species involved in the attack (insofar it is known),\n",
    "    <li>and finally <tt>Size (min)</tt> / <tt>Size (max)</tt> an estimate of the shark's size in cm. The `min` and `max` stem from the fact that the original dataset has a rough description of the attacking shark and often estimates like &ldquo;between 5 and 7 foot&rdquo; are provided.\n",
    "</ul>       "
   ]
  },
  {
   "cell_type": "code",
   "execution_count": 2,
   "metadata": {},
   "outputs": [
    {
     "data": {
      "text/html": [
       "<div>\n",
       "<style scoped>\n",
       "    .dataframe tbody tr th:only-of-type {\n",
       "        vertical-align: middle;\n",
       "    }\n",
       "\n",
       "    .dataframe tbody tr th {\n",
       "        vertical-align: top;\n",
       "    }\n",
       "\n",
       "    .dataframe thead th {\n",
       "        text-align: right;\n",
       "    }\n",
       "</style>\n",
       "<table border=\"1\" class=\"dataframe\">\n",
       "  <thead>\n",
       "    <tr style=\"text-align: right;\">\n",
       "      <th></th>\n",
       "      <th>Year</th>\n",
       "      <th>Month</th>\n",
       "      <th>Country</th>\n",
       "      <th>Area</th>\n",
       "      <th>Type</th>\n",
       "      <th>Activity</th>\n",
       "      <th>Sex</th>\n",
       "      <th>Age</th>\n",
       "      <th>Fatal</th>\n",
       "      <th>Injury</th>\n",
       "      <th>Species</th>\n",
       "      <th>Size (min)</th>\n",
       "      <th>Size (max)</th>\n",
       "    </tr>\n",
       "  </thead>\n",
       "  <tbody>\n",
       "    <tr>\n",
       "      <th>0</th>\n",
       "      <td>2018</td>\n",
       "      <td>Jun</td>\n",
       "      <td>USA</td>\n",
       "      <td>California</td>\n",
       "      <td>Boating</td>\n",
       "      <td>Paddling</td>\n",
       "      <td>F</td>\n",
       "      <td>57.0</td>\n",
       "      <td>N</td>\n",
       "      <td>Minor</td>\n",
       "      <td>White</td>\n",
       "      <td>NaN</td>\n",
       "      <td>NaN</td>\n",
       "    </tr>\n",
       "    <tr>\n",
       "      <th>1</th>\n",
       "      <td>2018</td>\n",
       "      <td>Jun</td>\n",
       "      <td>USA</td>\n",
       "      <td>Georgia</td>\n",
       "      <td>Unprovoked</td>\n",
       "      <td>Standing</td>\n",
       "      <td>F</td>\n",
       "      <td>11.0</td>\n",
       "      <td>N</td>\n",
       "      <td>Minor</td>\n",
       "      <td>NaN</td>\n",
       "      <td>NaN</td>\n",
       "      <td>NaN</td>\n",
       "    </tr>\n",
       "    <tr>\n",
       "      <th>2</th>\n",
       "      <td>2018</td>\n",
       "      <td>Jun</td>\n",
       "      <td>USA</td>\n",
       "      <td>Hawaii</td>\n",
       "      <td>Invalid</td>\n",
       "      <td>Surfing</td>\n",
       "      <td>M</td>\n",
       "      <td>48.0</td>\n",
       "      <td>N</td>\n",
       "      <td>Minor</td>\n",
       "      <td>NaN</td>\n",
       "      <td>NaN</td>\n",
       "      <td>NaN</td>\n",
       "    </tr>\n",
       "    <tr>\n",
       "      <th>3</th>\n",
       "      <td>2018</td>\n",
       "      <td>Jun</td>\n",
       "      <td>AUSTRALIA</td>\n",
       "      <td>New South Wales</td>\n",
       "      <td>Unprovoked</td>\n",
       "      <td>Surfing</td>\n",
       "      <td>M</td>\n",
       "      <td>NaN</td>\n",
       "      <td>N</td>\n",
       "      <td>Minor</td>\n",
       "      <td>NaN</td>\n",
       "      <td>200.0</td>\n",
       "      <td>200.0</td>\n",
       "    </tr>\n",
       "    <tr>\n",
       "      <th>4</th>\n",
       "      <td>2018</td>\n",
       "      <td>Jun</td>\n",
       "      <td>MEXICO</td>\n",
       "      <td>Colima</td>\n",
       "      <td>Provoked</td>\n",
       "      <td>Free diving</td>\n",
       "      <td>M</td>\n",
       "      <td>NaN</td>\n",
       "      <td>N</td>\n",
       "      <td>Moderate</td>\n",
       "      <td>NaN</td>\n",
       "      <td>300.0</td>\n",
       "      <td>300.0</td>\n",
       "    </tr>\n",
       "    <tr>\n",
       "      <th>5</th>\n",
       "      <td>2018</td>\n",
       "      <td>Jun</td>\n",
       "      <td>AUSTRALIA</td>\n",
       "      <td>New South Wales</td>\n",
       "      <td>Unprovoked</td>\n",
       "      <td>Kite surfing</td>\n",
       "      <td>M</td>\n",
       "      <td>NaN</td>\n",
       "      <td>N</td>\n",
       "      <td>Minor</td>\n",
       "      <td>NaN</td>\n",
       "      <td>NaN</td>\n",
       "      <td>NaN</td>\n",
       "    </tr>\n",
       "    <tr>\n",
       "      <th>6</th>\n",
       "      <td>2018</td>\n",
       "      <td>Jun</td>\n",
       "      <td>BRAZIL</td>\n",
       "      <td>Pernambuco</td>\n",
       "      <td>Unprovoked</td>\n",
       "      <td>Swimming</td>\n",
       "      <td>M</td>\n",
       "      <td>18.0</td>\n",
       "      <td>Y</td>\n",
       "      <td>Fatal</td>\n",
       "      <td>Tiger</td>\n",
       "      <td>NaN</td>\n",
       "      <td>NaN</td>\n",
       "    </tr>\n",
       "    <tr>\n",
       "      <th>7</th>\n",
       "      <td>2018</td>\n",
       "      <td>May</td>\n",
       "      <td>USA</td>\n",
       "      <td>Florida</td>\n",
       "      <td>Unprovoked</td>\n",
       "      <td>Fishing</td>\n",
       "      <td>M</td>\n",
       "      <td>52.0</td>\n",
       "      <td>N</td>\n",
       "      <td>Minor</td>\n",
       "      <td>NaN</td>\n",
       "      <td>91.0</td>\n",
       "      <td>91.0</td>\n",
       "    </tr>\n",
       "  </tbody>\n",
       "</table>\n",
       "</div>"
      ],
      "text/plain": [
       "   Year Month    Country             Area        Type      Activity Sex   Age  \\\n",
       "0  2018   Jun        USA       California     Boating      Paddling   F  57.0   \n",
       "1  2018   Jun        USA          Georgia  Unprovoked      Standing   F  11.0   \n",
       "2  2018   Jun        USA           Hawaii     Invalid       Surfing   M  48.0   \n",
       "3  2018   Jun  AUSTRALIA  New South Wales  Unprovoked       Surfing   M   NaN   \n",
       "4  2018   Jun     MEXICO           Colima    Provoked   Free diving   M   NaN   \n",
       "5  2018   Jun  AUSTRALIA  New South Wales  Unprovoked  Kite surfing   M   NaN   \n",
       "6  2018   Jun     BRAZIL       Pernambuco  Unprovoked      Swimming   M  18.0   \n",
       "7  2018   May        USA          Florida  Unprovoked       Fishing   M  52.0   \n",
       "\n",
       "  Fatal    Injury Species  Size (min)  Size (max)  \n",
       "0     N     Minor   White         NaN         NaN  \n",
       "1     N     Minor     NaN         NaN         NaN  \n",
       "2     N     Minor     NaN         NaN         NaN  \n",
       "3     N     Minor     NaN       200.0       200.0  \n",
       "4     N  Moderate     NaN       300.0       300.0  \n",
       "5     N     Minor     NaN         NaN         NaN  \n",
       "6     Y     Fatal   Tiger         NaN         NaN  \n",
       "7     N     Minor     NaN        91.0        91.0  "
      ]
     },
     "execution_count": 2,
     "metadata": {},
     "output_type": "execute_result"
    }
   ],
   "source": [
    "import pandas as pd\n",
    "import matplotlib.pyplot as plt\n",
    "\n",
    "sharks = pd.read_csv('resources-02/shark-attacks-cleaned.csv', index_col=0)\n",
    "sharks.head(8)"
   ]
  },
  {
   "cell_type": "markdown",
   "metadata": {},
   "source": [
    "<h2>Dataset summary</h2>\n",
    "<div class=\"task\">\n",
    "    <div>1)</div>\n",
    "    <div>\n",
    "        Describe every column of the dataset: what type of data it is (recall our data type classification!), what values we find in it and how they are roughly distributed. \n",
    "    </div>\n",
    "</div>\n"
   ]
  },
  {
   "cell_type": "markdown",
   "metadata": {},
   "source": [
    "<div>The following columns are present in the dataset:</div>"
   ]
  },
  {
   "cell_type": "markdown",
   "metadata": {},
   "source": [
    "<div>Using 'describe()' I will quickly evaluate the numerical columns and refer to the resulting dataframe below in the descriptions:</div>"
   ]
  },
  {
   "cell_type": "code",
   "execution_count": 3,
   "metadata": {},
   "outputs": [
    {
     "data": {
      "text/html": [
       "<div>\n",
       "<style scoped>\n",
       "    .dataframe tbody tr th:only-of-type {\n",
       "        vertical-align: middle;\n",
       "    }\n",
       "\n",
       "    .dataframe tbody tr th {\n",
       "        vertical-align: top;\n",
       "    }\n",
       "\n",
       "    .dataframe thead th {\n",
       "        text-align: right;\n",
       "    }\n",
       "</style>\n",
       "<table border=\"1\" class=\"dataframe\">\n",
       "  <thead>\n",
       "    <tr style=\"text-align: right;\">\n",
       "      <th></th>\n",
       "      <th>count</th>\n",
       "      <th>mean</th>\n",
       "      <th>std</th>\n",
       "      <th>min</th>\n",
       "      <th>25%</th>\n",
       "      <th>50%</th>\n",
       "      <th>75%</th>\n",
       "      <th>max</th>\n",
       "    </tr>\n",
       "  </thead>\n",
       "  <tbody>\n",
       "    <tr>\n",
       "      <th>Year</th>\n",
       "      <td>6300.0</td>\n",
       "      <td>1927.272381</td>\n",
       "      <td>281.116308</td>\n",
       "      <td>0.0</td>\n",
       "      <td>1942.0</td>\n",
       "      <td>1977.0</td>\n",
       "      <td>2005.0</td>\n",
       "      <td>2018.0</td>\n",
       "    </tr>\n",
       "    <tr>\n",
       "      <th>Age</th>\n",
       "      <td>3368.0</td>\n",
       "      <td>27.366093</td>\n",
       "      <td>13.909223</td>\n",
       "      <td>1.0</td>\n",
       "      <td>17.0</td>\n",
       "      <td>24.0</td>\n",
       "      <td>35.0</td>\n",
       "      <td>87.0</td>\n",
       "    </tr>\n",
       "    <tr>\n",
       "      <th>Size (min)</th>\n",
       "      <td>1976.0</td>\n",
       "      <td>255.439777</td>\n",
       "      <td>136.289556</td>\n",
       "      <td>2.0</td>\n",
       "      <td>150.0</td>\n",
       "      <td>213.0</td>\n",
       "      <td>350.0</td>\n",
       "      <td>1006.0</td>\n",
       "    </tr>\n",
       "    <tr>\n",
       "      <th>Size (max)</th>\n",
       "      <td>1976.0</td>\n",
       "      <td>267.893219</td>\n",
       "      <td>141.190139</td>\n",
       "      <td>2.0</td>\n",
       "      <td>152.0</td>\n",
       "      <td>240.0</td>\n",
       "      <td>366.0</td>\n",
       "      <td>1006.0</td>\n",
       "    </tr>\n",
       "  </tbody>\n",
       "</table>\n",
       "</div>"
      ],
      "text/plain": [
       "             count         mean         std  min     25%     50%     75%  \\\n",
       "Year        6300.0  1927.272381  281.116308  0.0  1942.0  1977.0  2005.0   \n",
       "Age         3368.0    27.366093   13.909223  1.0    17.0    24.0    35.0   \n",
       "Size (min)  1976.0   255.439777  136.289556  2.0   150.0   213.0   350.0   \n",
       "Size (max)  1976.0   267.893219  141.190139  2.0   152.0   240.0   366.0   \n",
       "\n",
       "               max  \n",
       "Year        2018.0  \n",
       "Age           87.0  \n",
       "Size (min)  1006.0  \n",
       "Size (max)  1006.0  "
      ]
     },
     "execution_count": 3,
     "metadata": {},
     "output_type": "execute_result"
    }
   ],
   "source": [
    "sharks.describe().T #T will choose the layout most suitable."
   ]
  },
  {
   "cell_type": "markdown",
   "metadata": {},
   "source": [
    "<h3>The next function will display the top 'x' values from each column in dataset 'dset' in turn:"
   ]
  },
  {
   "cell_type": "code",
   "execution_count": 4,
   "metadata": {
    "scrolled": true
   },
   "outputs": [
    {
     "data": {
      "text/plain": [
       "'Year'"
      ]
     },
     "metadata": {},
     "output_type": "display_data"
    },
    {
     "data": {
      "text/plain": [
       "'Total number of selections:'"
      ]
     },
     "metadata": {},
     "output_type": "display_data"
    },
    {
     "data": {
      "text/plain": [
       "249"
      ]
     },
     "metadata": {},
     "output_type": "display_data"
    },
    {
     "data": {
      "text/plain": [
       "2015    143\n",
       "2017    136\n",
       "2016    130\n",
       "2011    128\n",
       "2014    127\n",
       "0       125\n",
       "2008    122\n",
       "2013    122\n",
       "2009    120\n",
       "2012    117\n",
       "Name: Year, dtype: int64"
      ]
     },
     "metadata": {},
     "output_type": "display_data"
    },
    {
     "data": {
      "text/plain": [
       "'Month'"
      ]
     },
     "metadata": {},
     "output_type": "display_data"
    },
    {
     "data": {
      "text/plain": [
       "'Total number of selections:'"
      ]
     },
     "metadata": {},
     "output_type": "display_data"
    },
    {
     "data": {
      "text/plain": [
       "12"
      ]
     },
     "metadata": {},
     "output_type": "display_data"
    },
    {
     "data": {
      "text/plain": [
       "Jul    671\n",
       "Aug    601\n",
       "Sep    555\n",
       "Jan    518\n",
       "Jun    497\n",
       "Apr    455\n",
       "Oct    445\n",
       "Dec    438\n",
       "Mar    413\n",
       "Nov    408\n",
       "Name: Month, dtype: int64"
      ]
     },
     "metadata": {},
     "output_type": "display_data"
    },
    {
     "data": {
      "text/plain": [
       "'Country'"
      ]
     },
     "metadata": {},
     "output_type": "display_data"
    },
    {
     "data": {
      "text/plain": [
       "'Total number of selections:'"
      ]
     },
     "metadata": {},
     "output_type": "display_data"
    },
    {
     "data": {
      "text/plain": [
       "212"
      ]
     },
     "metadata": {},
     "output_type": "display_data"
    },
    {
     "data": {
      "text/plain": [
       "USA                 2229\n",
       "AUSTRALIA           1337\n",
       "SOUTH AFRICA         579\n",
       "PAPUA NEW GUINEA     134\n",
       "NEW ZEALAND          128\n",
       "BRAZIL               112\n",
       "BAHAMAS              109\n",
       "MEXICO                89\n",
       "ITALY                 71\n",
       "FIJI                  62\n",
       "Name: Country, dtype: int64"
      ]
     },
     "metadata": {},
     "output_type": "display_data"
    },
    {
     "data": {
      "text/plain": [
       "'Area'"
      ]
     },
     "metadata": {},
     "output_type": "display_data"
    },
    {
     "data": {
      "text/plain": [
       "'Total number of selections:'"
      ]
     },
     "metadata": {},
     "output_type": "display_data"
    },
    {
     "data": {
      "text/plain": [
       "825"
      ]
     },
     "metadata": {},
     "output_type": "display_data"
    },
    {
     "data": {
      "text/plain": [
       "Florida                  1037\n",
       "New South Wales           486\n",
       "Queensland                310\n",
       "Hawaii                    298\n",
       "California                290\n",
       "KwaZulu-Natal             213\n",
       "Western Cape Province     195\n",
       "Western Australia         189\n",
       "Eastern Cape Province     160\n",
       "South Carolina            160\n",
       "Name: Area, dtype: int64"
      ]
     },
     "metadata": {},
     "output_type": "display_data"
    },
    {
     "data": {
      "text/plain": [
       "'Type'"
      ]
     },
     "metadata": {},
     "output_type": "display_data"
    },
    {
     "data": {
      "text/plain": [
       "'Total number of selections:'"
      ]
     },
     "metadata": {},
     "output_type": "display_data"
    },
    {
     "data": {
      "text/plain": [
       "6"
      ]
     },
     "metadata": {},
     "output_type": "display_data"
    },
    {
     "data": {
      "text/plain": [
       "Unprovoked      4594\n",
       "Provoked         574\n",
       "Invalid          546\n",
       "Boating          341\n",
       "Sea Disaster     239\n",
       "Questionable       2\n",
       "Name: Type, dtype: int64"
      ]
     },
     "metadata": {},
     "output_type": "display_data"
    },
    {
     "data": {
      "text/plain": [
       "'Activity'"
      ]
     },
     "metadata": {},
     "output_type": "display_data"
    },
    {
     "data": {
      "text/plain": [
       "'Total number of selections:'"
      ]
     },
     "metadata": {},
     "output_type": "display_data"
    },
    {
     "data": {
      "text/plain": [
       "1532"
      ]
     },
     "metadata": {},
     "output_type": "display_data"
    },
    {
     "data": {
      "text/plain": [
       "Surfing         971\n",
       "Swimming        868\n",
       "Fishing         431\n",
       "Spearfishing    332\n",
       "Bathing         162\n",
       "Wading          149\n",
       "Diving          127\n",
       "Standing         99\n",
       "Snorkeling       89\n",
       "Scuba diving     76\n",
       "Name: Activity, dtype: int64"
      ]
     },
     "metadata": {},
     "output_type": "display_data"
    },
    {
     "data": {
      "text/plain": [
       "'Sex'"
      ]
     },
     "metadata": {},
     "output_type": "display_data"
    },
    {
     "data": {
      "text/plain": [
       "'Total number of selections:'"
      ]
     },
     "metadata": {},
     "output_type": "display_data"
    },
    {
     "data": {
      "text/plain": [
       "2"
      ]
     },
     "metadata": {},
     "output_type": "display_data"
    },
    {
     "data": {
      "text/plain": [
       "M    5094\n",
       "F     637\n",
       "Name: Sex, dtype: int64"
      ]
     },
     "metadata": {},
     "output_type": "display_data"
    },
    {
     "data": {
      "text/plain": [
       "'Age'"
      ]
     },
     "metadata": {},
     "output_type": "display_data"
    },
    {
     "data": {
      "text/plain": [
       "'Total number of selections:'"
      ]
     },
     "metadata": {},
     "output_type": "display_data"
    },
    {
     "data": {
      "text/plain": [
       "80"
      ]
     },
     "metadata": {},
     "output_type": "display_data"
    },
    {
     "data": {
      "text/plain": [
       "17.0    154\n",
       "18.0    150\n",
       "20.0    142\n",
       "19.0    142\n",
       "15.0    139\n",
       "16.0    138\n",
       "21.0    119\n",
       "22.0    117\n",
       "25.0    108\n",
       "24.0    106\n",
       "Name: Age, dtype: int64"
      ]
     },
     "metadata": {},
     "output_type": "display_data"
    },
    {
     "data": {
      "text/plain": [
       "'Fatal'"
      ]
     },
     "metadata": {},
     "output_type": "display_data"
    },
    {
     "data": {
      "text/plain": [
       "'Total number of selections:'"
      ]
     },
     "metadata": {},
     "output_type": "display_data"
    },
    {
     "data": {
      "text/plain": [
       "2"
      ]
     },
     "metadata": {},
     "output_type": "display_data"
    },
    {
     "data": {
      "text/plain": [
       "N    4302\n",
       "Y    1387\n",
       "Name: Fatal, dtype: int64"
      ]
     },
     "metadata": {},
     "output_type": "display_data"
    },
    {
     "data": {
      "text/plain": [
       "'Injury'"
      ]
     },
     "metadata": {},
     "output_type": "display_data"
    },
    {
     "data": {
      "text/plain": [
       "'Total number of selections:'"
      ]
     },
     "metadata": {},
     "output_type": "display_data"
    },
    {
     "data": {
      "text/plain": [
       "5"
      ]
     },
     "metadata": {},
     "output_type": "display_data"
    },
    {
     "data": {
      "text/plain": [
       "Minor        2423\n",
       "Moderate     1477\n",
       "Fatal        1461\n",
       "Major         440\n",
       "No injury      19\n",
       "Name: Injury, dtype: int64"
      ]
     },
     "metadata": {},
     "output_type": "display_data"
    },
    {
     "data": {
      "text/plain": [
       "'Species'"
      ]
     },
     "metadata": {},
     "output_type": "display_data"
    },
    {
     "data": {
      "text/plain": [
       "'Total number of selections:'"
      ]
     },
     "metadata": {},
     "output_type": "display_data"
    },
    {
     "data": {
      "text/plain": [
       "39"
      ]
     },
     "metadata": {},
     "output_type": "display_data"
    },
    {
     "data": {
      "text/plain": [
       "White            178\n",
       "Tiger             80\n",
       "Bull              56\n",
       "Wobbegong         22\n",
       "Zambesi           20\n",
       "Blacktip          17\n",
       "Mako              16\n",
       "Blue              15\n",
       "Raggedtooth       14\n",
       "Bronze whaler     12\n",
       "Name: Species, dtype: int64"
      ]
     },
     "metadata": {},
     "output_type": "display_data"
    },
    {
     "data": {
      "text/plain": [
       "'Size (min)'"
      ]
     },
     "metadata": {},
     "output_type": "display_data"
    },
    {
     "data": {
      "text/plain": [
       "'Total number of selections:'"
      ]
     },
     "metadata": {},
     "output_type": "display_data"
    },
    {
     "data": {
      "text/plain": [
       "99"
      ]
     },
     "metadata": {},
     "output_type": "display_data"
    },
    {
     "data": {
      "text/plain": [
       "300.0    134\n",
       "122.0    129\n",
       "183.0    115\n",
       "200.0    111\n",
       "180.0    107\n",
       "150.0    107\n",
       "152.0     87\n",
       "91.0      77\n",
       "305.0     68\n",
       "400.0     64\n",
       "Name: Size (min), dtype: int64"
      ]
     },
     "metadata": {},
     "output_type": "display_data"
    },
    {
     "data": {
      "text/plain": [
       "'Size (max)'"
      ]
     },
     "metadata": {},
     "output_type": "display_data"
    },
    {
     "data": {
      "text/plain": [
       "'Total number of selections:'"
      ]
     },
     "metadata": {},
     "output_type": "display_data"
    },
    {
     "data": {
      "text/plain": [
       "100"
      ]
     },
     "metadata": {},
     "output_type": "display_data"
    },
    {
     "data": {
      "text/plain": [
       "300.0    140\n",
       "152.0    115\n",
       "180.0    106\n",
       "183.0    105\n",
       "150.0    104\n",
       "200.0    102\n",
       "122.0     94\n",
       "244.0     65\n",
       "400.0     65\n",
       "120.0     59\n",
       "Name: Size (max), dtype: int64"
      ]
     },
     "metadata": {},
     "output_type": "display_data"
    }
   ],
   "source": [
    "def describeTopx(dset, x):\n",
    "    from IPython.display import display  \n",
    "    for i in range(len(list(dset))):\n",
    "        colName = list(dset)[i]\n",
    "        display(colName)\n",
    "        display(\"Total number of selections:\",sharks[colName].value_counts().count())\n",
    "        display(sharks[colName].value_counts().head(x))\n",
    "        \n",
    "describeTopx(sharks,10)"
   ]
  },
  {
   "cell_type": "markdown",
   "metadata": {},
   "source": [
    "<h2>Descriptions of the columns:</h2>"
   ]
  },
  {
   "cell_type": "markdown",
   "metadata": {},
   "source": [
    "<div><b><u>Year:</u></b></div>\n",
    "<div>This column contains numeric data, the year in which the attacks took place. The years range from 0, 77, 500 (I assume these are anomalies), then 1543 to 2018. The reports per year increase year on year. The average is 1927 but this will have been skewed by the previously mentioned anomolies.\n",
    "<div><b><u>Month:</u></b></div></u></b></div></u></b></div>\n",
    "<div>This column contains ordinal data, namely the 12 months of the year. The northern hemisphere summer months have the highest numbers.\n",
    "<div><b><u>Country:</u></b></div></u></b></div>\n",
    "<div>This contains categorical data, the countries the attacks place in (or at least the coastal waters). With 212 total countries, and there being only 195-206 countries in the world, there must be some errors here. Over half of the reports are in the top three countries.\n",
    "<div><b><u>Area:</u></b></div>\n",
    "<div>This column also contains categorical data, more specific locations than the country. One sixth of all reports are in Florida, which suggests either Florida is a dangerous state, or this could be influenced by the fact that the International Shark Attack File is based in Florida!\n",
    "<div><b><u>Type:</u></b></div>\n",
    "<div>This column contains categorical data. It states the type of attack, with 'unprovoked' accounting for the vast majority (72%) of reports.\n",
    "<div><b><u>Activity:</u></b></div>\n",
    "<div>This column describes the activities the victims were involved in during the attack. With a total of 1532 listed activities, surfing, swimming and fishing dominate the reports. Indeed, the ones at the other end of the listing tend to be similar activities with more descriptions.\n",
    "<div><b><u>Sex:</u></b></div>\n",
    "<div>This column states wether the victim was male or female, with a ratio of 8:1 in favour of males!\n",
    "<div><b><u>Age:</u></b></div>\n",
    "<div>This column states the age of the victim, ranging from 1.0 to 87, an average of 27, but the top end of the reports containing late teens to early twenties.\n",
    "<div><b><u>Fatal:</u></b></div>\n",
    "<div>This column states whether the attack involved a fatality or not. The ratio is about 3:1 non-fatal to fatal, with about 90% of all reports having data.\n",
    "<div><b><u>Injury:</u></b></div>\n",
    "<div>This column describes the severity of the injury, if any. Over 92% of all reports have this data, with 'minor' having the most entries. Interestingly, the 'fatal' entry does not match the fatal column.\n",
    "<div><b><u>Species:</u></b></div>\n",
    "<div>This column describes the shark species, or breed. The 'white', or Great White Shark dominates the reports, although the total entries only represent about 10% of all reports.\n",
    "<div><b><u>Size (min) & Size (max):</u></b></div>\n",
    "<div>These columns describe the size of the shark, and ranges from a minimum of 2cm (another anomaly?) to over 10m. Both have similar mean (255/267cm) with a 3m shark being the most reported."
   ]
  },
  {
   "cell_type": "markdown",
   "metadata": {},
   "source": [
    "<h2>Data exploration</h2>\n",
    "\n",
    "<div class=\"task\">\n",
    "    <div>2)</div>\n",
    "    <div>\n",
    "        Come up with <b>three</b> questions about the dataset\n",
    "        and attempt to answer them using `pandas` and `matplotlib` (and any additional libraries you want to use).\n",
    "    </div>\n",
    "</div>\n",
    "\n",
    "Per question, you should provide <b>at least one</b> plot which helps in exploring the question. <i>Every plot should be accompanied by a description of what is plotted and an interpretation of what it shows with respect to your question</i>.\n",
    "    \n",
    "Examples for good questions are &ldquo;Do larger sharks cause graver injuries?&rdquo;,\n",
    "&ldquo;Which shark species is most dangerous&rdquo;, or\n",
    "&ldquo;Do men provoke sharks more than women?&rdquo; (you can use one of these, please come up with different questions for the other two). \n",
    "\n",
    "Your write-up should contain an explanation of the question, a discussion on what part of the dataset you are focusing on (and why!), one or more suitable plots of this subset (including a description and an interpretation of the plot)\n",
    "and an attempt at answering your question&mdash;if possible, quantitatively. \n",
    "\n",
    "\n",
    "A few hints:\n",
    "<ul>\n",
    "    <li>Select a <b>suitable subset</b> of the data. For example, if your question is related to, say, modern tourism, you should restrict yourself to rows with dates within the last 50 years or so.\n",
    "    <li>Make sure that you select the <b>best suited plot</b>\n",
    "       (among those that were introduced in the lecture and lab) and tune its appearance to make it <b>as readable as possible</b> (in particular with respect to the story you want to tell)\n",
    "    <li>Feel free to use <b>external knowledge</b> to supplement your narrative about the data. Unless it is information that it easily verified, please supply a link to your source (Wikipedia is perfectly fine in this context)\n",
    "</ul>"
   ]
  },
  {
   "cell_type": "markdown",
   "metadata": {},
   "source": [
    "<h3>Question 1: Does age have any bearing on the severity of the attacks, are there any other factors?</h3>\n",
    "\n",
    "<div style=\"text-align: left margin: 3em 6em\">Here I will examine whether the age of any victim relates to the severity of the injuries they receive, if not, I will apply another factor to see if anything has a correlation:</div>\n"
   ]
  },
  {
   "cell_type": "markdown",
   "metadata": {},
   "source": [
    "<h4>1.1: Does age correlate to the severity of the injury?</h4>"
   ]
  },
  {
   "cell_type": "code",
   "execution_count": null,
   "metadata": {},
   "outputs": [],
   "source": [
    "#Code to ensure the plots are a nice size\n",
    "fig_size = plt.rcParams[\"figure.figsize\"]\n",
    "fig_size[0] = 15\n",
    "fig_size[1] = 9\n",
    "plt.rcParams[\"figure.figsize\"] = fig_size"
   ]
  },
  {
   "cell_type": "markdown",
   "metadata": {},
   "source": [
    "# Please note, in order to see the following plots you will need to click on the relevant buttons.  You can view all data together or split by gender."
   ]
  },
  {
   "cell_type": "code",
   "execution_count": null,
   "metadata": {},
   "outputs": [],
   "source": [
    "import ipywidgets as widgets\n",
    "from IPython.display import display, clear_output\n",
    "import seaborn as sns\n",
    "#from IPython.display import clear_output\n",
    "\n",
    "    \n",
    "btn = widgets.Button(description='Male/Female')\n",
    "other_btn = widgets.Button(description='All')\n",
    "display('Please select a button to show a boxplot for Age:')\n",
    "display(widgets.HBox((btn, other_btn)))\n",
    " \n",
    "def my_event_handler(btn_object):\n",
    "    clear_output()\n",
    "    display('Please select a button to show a boxplot for Age:')\n",
    "    display(widgets.HBox((btn, other_btn)))\n",
    "    sns.boxplot(x='Injury', y = 'Age', data = sharks, hue = 'Sex', order = ['No injury', 'Minor', 'Moderate', 'Major', 'Fatal'])\n",
    "    \n",
    "def my_event_handler2(btn_object):\n",
    "    clear_output()\n",
    "    display('Please select a button to show a boxplot for Age:')\n",
    "    display(widgets.HBox((btn, other_btn)))\n",
    "    sns.boxplot(x='Injury', y = 'Age', data = sharks,  order = ['No injury', 'Minor', 'Moderate', 'Major', 'Fatal'])\n",
    " \n",
    "btn.on_click(my_event_handler)\n",
    "other_btn.on_click(my_event_handler2)"
   ]
  },
  {
   "cell_type": "markdown",
   "metadata": {},
   "source": [
    "<div>Looking at both plots, there does not seem to be much difference between the different types of injury and the ages of the victims.   The 'No injury' group are a little older.</div>\n",
    "<div>We shall look at another factor:</div>"
   ]
  },
  {
   "cell_type": "markdown",
   "metadata": {},
   "source": [
    "<h4>1.2: Does the size of the shark correlate to the severity of the injury?</h4>"
   ]
  },
  {
   "cell_type": "code",
   "execution_count": null,
   "metadata": {},
   "outputs": [],
   "source": [
    "import ipywidgets as widgets\n",
    "from IPython.display import display, clear_output\n",
    "\n",
    "\n",
    "btn = widgets.Button(description='Male/Female')\n",
    "other_btn = widgets.Button(description='All')\n",
    "display('Please select a button to show a boxplot for shark size(max):')\n",
    "display(widgets.HBox((btn, other_btn)))\n",
    " \n",
    "def my_event_handler(btn_object):\n",
    "    clear_output()\n",
    "    display('Please select a button to show a boxplot for shark size(max):')\n",
    "    display(widgets.HBox((btn, other_btn)))\n",
    "    sns.boxplot(x='Injury', y =  'Size (max)', data = sharks, hue = 'Sex', order = ['No injury', 'Minor', 'Moderate', 'Major', 'Fatal'])\n",
    "    \n",
    "def my_event_handler2(btn_object):\n",
    "    clear_output()\n",
    "    display('Please select a button to show a boxplot for shark size(max):')\n",
    "    display(widgets.HBox((btn, other_btn)))\n",
    "    sns.boxplot(x='Injury', y = 'Size (max)', data = sharks,  order = ['No injury', 'Minor', 'Moderate', 'Major', 'Fatal'])\n",
    " \n",
    "btn.on_click(my_event_handler)\n",
    "other_btn.on_click(my_event_handler2)"
   ]
  },
  {
   "cell_type": "markdown",
   "metadata": {},
   "source": [
    "<div>As expected, from 'Moderate' to 'Fatal' there is an increase in size, the bigger the shark, the harder the bite!  There is a strange result with 'Minor' seeming to have a similar reading to Major', where I would expect this to be less than moderate.</div>"
   ]
  },
  {
   "cell_type": "markdown",
   "metadata": {},
   "source": [
    "<h4>1.3: Does the year correlate to the severity of the injury?</h4>"
   ]
  },
  {
   "cell_type": "code",
   "execution_count": null,
   "metadata": {},
   "outputs": [],
   "source": [
    "import ipywidgets as widgets\n",
    "from IPython.display import display, clear_output\n",
    "#from IPython.display import clear_output\n",
    "\n",
    "    \n",
    "btn = widgets.Button(description='Male/Female')\n",
    "other_btn = widgets.Button(description='All')\n",
    "btn3 = widgets.Button(description='M/F after 1900')\n",
    "other_btn4= widgets.Button(description='All after 1900')\n",
    "btn5 = widgets.Button(description='M/F after 1960')\n",
    "other_btn6 = widgets.Button(description='All after 1960')\n",
    "display('Please select a button to show a boxplot for year:')\n",
    "display(widgets.HBox((btn, other_btn, btn3, other_btn4, btn5, other_btn6)))\n",
    " \n",
    "def my_event_handler(btn_object):\n",
    "    clear_output()\n",
    "    display('Please select a button to show a boxplot for year:')\n",
    "    display(widgets.HBox((btn, other_btn, btn3, other_btn4, btn5, other_btn6)))\n",
    "    sns.boxplot(x='Injury', y = 'Year', data = sharks[sharks['Year']>1750], hue = 'Sex', order = ['No injury', 'Minor', 'Moderate', 'Major', 'Fatal'])\n",
    "    \n",
    "def my_event_handler2(btn_object):\n",
    "    clear_output()\n",
    "    display('Please select a button to show a boxplot for year:')\n",
    "    display(widgets.HBox((btn, other_btn, btn3, other_btn4, btn5, other_btn6)))\n",
    "    sns.boxplot(x='Injury', y = 'Year', data = sharks[sharks['Year']>1750],  order = ['No injury', 'Minor', 'Moderate', 'Major', 'Fatal'])\n",
    "    \n",
    "def my_event_handler3(btn_object):\n",
    "    clear_output()\n",
    "    display('Please select a button to show a boxplot for year:')\n",
    "    display(widgets.HBox((btn, other_btn, btn3, other_btn4, btn5, other_btn6)))\n",
    "    sns.boxplot(x='Injury', y = 'Year', data = sharks[sharks['Year']>1900], hue = 'Sex', order = ['No injury', 'Minor', 'Moderate', 'Major', 'Fatal'])\n",
    "    \n",
    "def my_event_handler4(btn_object):\n",
    "    clear_output()\n",
    "    display('Please select a button to show a boxplot for year:')\n",
    "    display(widgets.HBox((btn, other_btn, btn3, other_btn4, btn5, other_btn6)))\n",
    "    sns.boxplot(x='Injury', y = 'Year', data = sharks[sharks['Year']>1900],  order = ['No injury', 'Minor', 'Moderate', 'Major', 'Fatal'])\n",
    "\n",
    "def my_event_handler5(btn_object):\n",
    "    clear_output()\n",
    "    display('Please select a button to show a boxplot for year:')\n",
    "    display(widgets.HBox((btn, other_btn, btn3, other_btn4, btn5, other_btn6)))\n",
    "    sns.boxplot(x='Injury', y = 'Year', data = sharks[sharks['Year']>1960], hue = 'Sex', order = ['No injury', 'Minor', 'Moderate', 'Major', 'Fatal'])\n",
    "    \n",
    "def my_event_handler6(btn_object):\n",
    "    clear_output()\n",
    "    display('Please select a button to show a boxplot for year:')\n",
    "    display(widgets.HBox((btn, other_btn, btn3, other_btn4, btn5, other_btn6)))\n",
    "    sns.boxplot(x='Injury', y = 'Year', data = sharks[sharks['Year']>1960],  order = ['No injury', 'Minor', 'Moderate', 'Major', 'Fatal'])\n",
    " \n",
    "btn.on_click(my_event_handler)\n",
    "other_btn.on_click(my_event_handler2)\n",
    "btn3.on_click(my_event_handler3)\n",
    "other_btn4.on_click(my_event_handler4)\n",
    "btn5.on_click(my_event_handler5)\n",
    "other_btn6.on_click(my_event_handler6)\n"
   ]
  },
  {
   "cell_type": "markdown",
   "metadata": {},
   "source": [
    "<div>If you select all of the years, the boxplot does not tell you much in regards to what we are looking for, or at least, the evidence is quite compressed near the top.  Once you select only the later years, it seems evident that there are less fatalaties in this century.  Indeed, the 'No injury' plot seems to mainly have reports in the last 20 years or so.</div>"
   ]
  },
  {
   "cell_type": "markdown",
   "metadata": {},
   "source": [
    "<h3>Conclusion:</h3>\n",
    "<div>The age of the person does not seem to have much of a bearing on the severity of the injuries reported, and the size of the shark does, which I do not find surprising.  One thing I do find interesting is that the fatalaties have declined while the reports of attacks with no injuries have increased in the last 20 years.  Could the causes of this be that medical advances are saving lives?  Are non-injury attacks being reported more now because it is easier to due to the internet?</div>"
   ]
  },
  {
   "cell_type": "markdown",
   "metadata": {},
   "source": [
    "<h3>Question 2: Which shark species is most dangerous?  (Felix's suggestion...)</h3>\n",
    "\n",
    "\n",
    "<div style = \"text-align: left margin: 3em 6em\">Here I will be exploring the species data to see which species causes the most serious attacks and maybe we will see which causes the most of all types of attacks.  So, first of all I will make a copy of the data which only includes the data we need:</div>"
   ]
  },
  {
   "cell_type": "code",
   "execution_count": null,
   "metadata": {},
   "outputs": [],
   "source": [
    "sharksQ2 = sharks[['Type','Activity','Injury','Species']].copy() \n",
    "#I have included Type and Activity in case they become useful later on.\n",
    "sharksQ2.head()"
   ]
  },
  {
   "cell_type": "markdown",
   "metadata": {},
   "source": [
    "<div>Now, I will remove all NaN entries from the 'Injury' and 'Species' columns:</div>"
   ]
  },
  {
   "cell_type": "code",
   "execution_count": null,
   "metadata": {},
   "outputs": [],
   "source": [
    "Q2Subset = sharksQ2.dropna(subset = ['Injury', 'Species'])\n",
    "Q2Subset.head(10)"
   ]
  },
  {
   "cell_type": "markdown",
   "metadata": {},
   "source": [
    "<h4>Initial dataframe showing the species with the most attacks:</h4>"
   ]
  },
  {
   "cell_type": "code",
   "execution_count": null,
   "metadata": {},
   "outputs": [],
   "source": [
    "topspecies = Q2Subset['Species'].value_counts().head(10)\n",
    "topspecies"
   ]
  },
  {
   "cell_type": "markdown",
   "metadata": {},
   "source": [
    "<div>The above table does give us the basic information we are after in a simple format.  It does show that the 'White' or Great White Shark is the species with most reported attacks.  This is not a big surprise, but we could take in to account the fact that the Great White is the most well known breed and has a poor reputation, (thanks to a series of films), and could be the 'go-to' breed suggested by witnesses, or maybe Spielberg was right!  This data could have been produced using a spreadsheet, so I will explore it further using the tools we have available.</div>\n",
    "<div>Something we can look at is the severity of attacks, which is why I included the 'Injury' column.  From here I will only consider the top 10 sharks:</div>"
   ]
  },
  {
   "cell_type": "markdown",
   "metadata": {},
   "source": [
    "<h4>Initial dataframe showing the number of each type of attack:</h4>"
   ]
  },
  {
   "cell_type": "code",
   "execution_count": null,
   "metadata": {},
   "outputs": [],
   "source": [
    "Q2Subset['Injury'].value_counts()"
   ]
  },
  {
   "cell_type": "code",
   "execution_count": null,
   "metadata": {},
   "outputs": [],
   "source": [
    "top10species = Q2Subset['Species'].value_counts().head(10)\n",
    "\n",
    "import matplotlib.pyplot as plt\n",
    "import numpy as np\n",
    " \n",
    "x = top10species.index\n",
    "y = top10species.values\n",
    "\n",
    " \n",
    "plt.bar(x, y)\n",
    "plt.xlabel('Species')\n",
    "plt.title('Registered Shark Attacks by Species')\n",
    "plt.ylabel('Total Shark Attacks')\n",
    "\n",
    "plt.show()"
   ]
  },
  {
   "cell_type": "markdown",
   "metadata": {},
   "source": [
    "<div>A stacked chart showing the different types of injury:"
   ]
  },
  {
   "cell_type": "code",
   "execution_count": null,
   "metadata": {},
   "outputs": [],
   "source": [
    "a = pd.crosstab(sharksQ2.Species, sharksQ2.Injury).head(10)\n",
    "a.plot.bar(stacked=True)"
   ]
  },
  {
   "cell_type": "markdown",
   "metadata": {},
   "source": [
    "<h4>Conclusion:</h4>\n",
    "<div>With no surprises, the Great White is consistently the most dangerous shark.\n",
    "   "
   ]
  },
  {
   "cell_type": "markdown",
   "metadata": {},
   "source": [
    "<h3>Question 3: Which month is the most dangerous for shark attacks?</h3>\n",
    "<br>\n",
    "<div style=\"text-align: left margin: 3em 6em\">As the previous two questions only used a small amount of data due to the low number of times the species was recorded, I will try and use all of the records here. With this question I will explore the data relating to the time of year attacks take place.  I expect there to be an issue with the southern and northern hemispheres having summers at different times and will take in to account the fact that more people are in the water in the warmer months.</div>\n",
    "<h4>Initial series showing months and number of attacks:</h4>"
   ]
  },
  {
   "cell_type": "code",
   "execution_count": null,
   "metadata": {},
   "outputs": [],
   "source": [
    "sharks['Month'].value_counts()"
   ]
  },
  {
   "cell_type": "markdown",
   "metadata": {},
   "source": [
    "<div>This shows that the summer months and January seem to be most dangerous, not a surprise really considering that January is summer in the southern hemisphere.  If we wish to look further, we will need to remove the NaN values, look at the severuty of the attacks, and adjust the 'month' data to account for the part of the world the report is from:</div>\n",
    "<div>Pull out the required columns:"
   ]
  },
  {
   "cell_type": "code",
   "execution_count": null,
   "metadata": {},
   "outputs": [],
   "source": [
    "sharksQ3 = sharks[['Month','Country','Injury']].copy() "
   ]
  },
  {
   "cell_type": "markdown",
   "metadata": {},
   "source": [
    "<div>Show the top 10 countries:</div>"
   ]
  },
  {
   "cell_type": "code",
   "execution_count": null,
   "metadata": {},
   "outputs": [],
   "source": [
    "sharksQ3[\"Country\"].value_counts().head(10)"
   ]
  },
  {
   "cell_type": "markdown",
   "metadata": {},
   "source": [
    "<div>Here it is quite clear that the majority of attacks take place in a small number of countries, in 3 distinct regions, America, Australasia and South Africa.  A further study in which we look at which areas of USA and Australia have frequent attacks would be interesting due to their large, varied coastal regions.</div>\n",
    "<div>I will, arbitrarily, choose to use the countries that have had over 100 attacks reported (I will also remove all NaN values from all columns:</div>"
   ]
  },
  {
   "cell_type": "code",
   "execution_count": null,
   "metadata": {},
   "outputs": [],
   "source": [
    "topCountries = sharksQ3.groupby(\"Country\").filter(lambda x: len(x) > 100).dropna()\n",
    "display(topCountries.describe())\n",
    "display(topCountries[\"Country\"].value_counts())"
   ]
  },
  {
   "cell_type": "markdown",
   "metadata": {},
   "source": [
    "<div>Due to filtering for countries with more than 100 reports before removing all NaN values, we have a few countries with less than 100 records. I will use these anyway.</div>\n",
    "<div>I now need to categorise these with regards to their geographical location, namely, which hemisphere.  This will create a new column, 'Hemisphere', and append either 'North' or 'South' depending on the 'Country' value (I have placed Brazil in to the southern hemisphere):</div>"
   ]
  },
  {
   "cell_type": "code",
   "execution_count": null,
   "metadata": {},
   "outputs": [],
   "source": [
    "topCountries['Hemisphere'] = np.where((\n",
    "    (topCountries['Country'] =='USA') |\n",
    "  (topCountries['Country'] == 'BAHAMAS')),\n",
    " 'North', 'South')\n",
    "topCountries.head(10)"
   ]
  },
  {
   "cell_type": "markdown",
   "metadata": {},
   "source": [
    "<div>This is a stacked bar chart showing attacks by all countries:"
   ]
  },
  {
   "cell_type": "code",
   "execution_count": null,
   "metadata": {},
   "outputs": [],
   "source": [
    "topNorth = topCountries[topCountries['Hemisphere']=='North']\n",
    "topSouth = topCountries[topCountries['Hemisphere']=='South']\n",
    "#topSouth\n",
    "a = pd.crosstab(topSouth.Country, topSouth.Injury)\n",
    "a.plot.bar(stacked=True)"
   ]
  },
  {
   "cell_type": "code",
   "execution_count": null,
   "metadata": {},
   "outputs": [],
   "source": [
    "import matplotlib.pyplot as plt\n",
    "import numpy as np\n",
    "\n",
    "topNorthS = topNorth['Month'].value_counts()\n",
    "\n",
    "x = topNorthS.index\n",
    "y = topNorthS.values\n",
    "\n",
    " \n",
    "plt.bar(x, y)\n",
    "plt.xlabel('Month')\n",
    "plt.title('Shark Attacks by Month - Northern Hemisphere')\n",
    "plt.ylabel('Total Shark Attacks')\n",
    "\n",
    "plt.show()\n"
   ]
  },
  {
   "cell_type": "code",
   "execution_count": null,
   "metadata": {},
   "outputs": [],
   "source": [
    "import matplotlib.pyplot as plt\n",
    "import numpy as np\n",
    "\n",
    "topSouthS = topSouth['Month'].value_counts()\n",
    "\n",
    "x = topSouthS.index\n",
    "y = topSouthS.values\n",
    "\n",
    " \n",
    "plt.bar(x, y)\n",
    "plt.xlabel('Month')\n",
    "plt.title('Shark Attacks by Month - Southern Hemisphere')\n",
    "plt.ylabel('Total Shark Attacks')\n",
    "\n",
    "plt.show()\n"
   ]
  },
  {
   "cell_type": "markdown",
   "metadata": {},
   "source": [
    "<h4>Conclusion:</h4>\n",
    "<div>The months with the most attacks are the summer months in whichever hemisphere the attacks take place.  I would have liked to have plotted the northern and southern hemisphere readings together, which would have shown a clearer picture."
   ]
  },
  {
   "cell_type": "code",
   "execution_count": null,
   "metadata": {},
   "outputs": [],
   "source": []
  }
 ],
 "metadata": {
  "kernelspec": {
   "display_name": "Python 3",
   "language": "python",
   "name": "python3"
  },
  "language_info": {
   "codemirror_mode": {
    "name": "ipython",
    "version": 3
   },
   "file_extension": ".py",
   "mimetype": "text/x-python",
   "name": "python",
   "nbconvert_exporter": "python",
   "pygments_lexer": "ipython3",
   "version": "3.7.2"
  }
 },
 "nbformat": 4,
 "nbformat_minor": 2
}
